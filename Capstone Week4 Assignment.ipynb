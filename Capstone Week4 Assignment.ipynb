{
 "cells": [
  {
   "cell_type": "markdown",
   "metadata": {},
   "source": [
    "# Capstone Project - The Battle of Neighborhoods (Week 1)"
   ]
  },
  {
   "cell_type": "markdown",
   "metadata": {},
   "source": [
    "# Introduction\n",
    "\n",
    "In this assigment, we will leverage Foursquare location data to explore or compare neighborhoods or cities to come up with a problem that we can use the Foursquare location data to solve. "
   ]
  },
  {
   "cell_type": "markdown",
   "metadata": {},
   "source": [
    "## Table of Contents\n",
    "\n",
    "<div class=\"alert alert-block alert-info\" style=\"margin-top: 20px\">\n",
    "\n",
    "<font size = 3>\n",
    "\n",
    "1. <a href=\"#item1\">Business problem</a>\n",
    "\n",
    "2. <a href=\"#item2\">Data Description</a>\n",
    "</font>\n",
    "</div>"
   ]
  },
  {
   "cell_type": "markdown",
   "metadata": {},
   "source": [
    "# Business Problem\n",
    "\n",
    "In this project, we are building a recommender system which suggests neighborhoods to customers who wants to start a business. It can also be used by people for various other purposes. Below are a list of target audience and stakeholders that can benefit the system.\n",
    "\n",
    "1. Target audience/Stakeholders\n",
    "    1. Business people who are interested opening a business in a city. They can use the system to get an idea of the neighborhoods in a city and get help determine the optimal neighborhood/location to open their business.\n",
    "    2. People who wants to explore a city and the venues they are interested. For example, a tourist can explore particular venues nearby such as coffee shop, museums, or restaurant.\n",
    "\n",
    "Below are the key factors to consider when determining the suggested neighborhood.\n",
    "\n",
    "1. Should the business should be close to similar business?\n",
    "    1. A customer may want to open a business close to similar businesses since the having similar businesses in that neighborhood indicates that there is a demand for such business.\n",
    "    2. A customer may want to open the business far from similar businesses to utilize being one of few choices in the neighborhood.\n",
    "2. Which venues a customer would prefer to open their business nearby.\n",
    "    1. A customer may want to open their business close to particular venues. For example, a customer may want to open a stationery in a school district.\n",
    "    2. In some cases, a customer may want to avoid certain neighborhoods to open their business. For example, a customer may want to avoid opening his grocery store close to a mall.\n",
    "\n",
    "Based on the issues above we will develop a neighborhood recommender system for new businesses. To build such system we need location data of the venues in a neighborhood along with their category/type which we will obtain from Foursquare.  \n"
   ]
  },
  {
   "cell_type": "markdown",
   "metadata": {},
   "source": [
    "# Data Description\n",
    "\n",
    "In this project, we are using Foursquare location data. The data includes but not limited to the following information:\n",
    "\n",
    "1. Geographical location of venues in the form of its latitude and longitude.\n",
    "2. The neighborhood of venues.\n",
    "3. The category of venues.\n",
    "\n",
    "We will utilize the data to have a better understanding of the types of businesses in a certain neighborhood. We will use the data in the following ways to build the recommender system:\n",
    "\n",
    "1. The category/type of the venues will be used to determine how similar two venues are.\n",
    "2. The location data will be used to measure the distances among venues.\n",
    "\n",
    "Determining whether the system makes good suggestions will be challenging at the modeling stage because the problem has a temporal component. The success of the tool will only be understood truly if customers select the neighborhood that the system suggests are successful at their businesses after a period of time. Therefore, at the current stage there is no metric to determine whether the suggestion is good. This problem can be resolved overtime if we track the success of the business who use the model over time and make improvements in the system if necessary. This will also help to realize fit he system goes stall and needs to modified. Moving forward we will keep these issues in mind and try to address them. We may need to use other data or other features in Foursquare data in the process of building the system."
   ]
  }
 ],
 "metadata": {
  "kernelspec": {
   "display_name": "Python 3",
   "language": "python",
   "name": "python3"
  },
  "language_info": {
   "codemirror_mode": {
    "name": "ipython",
    "version": 3
   },
   "file_extension": ".py",
   "mimetype": "text/x-python",
   "name": "python",
   "nbconvert_exporter": "python",
   "pygments_lexer": "ipython3",
   "version": "3.6.6"
  }
 },
 "nbformat": 4,
 "nbformat_minor": 2
}
